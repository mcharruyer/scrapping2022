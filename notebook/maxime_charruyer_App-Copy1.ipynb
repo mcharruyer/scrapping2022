{
 "cells": [
  {
   "cell_type": "markdown",
   "metadata": {},
   "source": [
    "# DicoCo\n",
    "\n",
    "Maxime Charruyer"
   ]
  },
  {
   "cell_type": "code",
   "execution_count": 82,
   "metadata": {},
   "outputs": [],
   "source": [
    "# import necessaire à la création des widgets\n",
    "import os\n",
    "import re\n",
    "import pandas as pd\n",
    "import requests\n",
    "import ipywidgets as widgets\n",
    "from IPython.display import display, clear_output, HTML, Markdown, Audio\n",
    "from requests_html import HTMLSession\n",
    "from bs4 import BeautifulSoup\n",
    "import matplotlib.pyplot as plt\n",
    "import librosa\n",
    "import librosa.display\n",
    "import numpy as np\n"
   ]
  },
  {
   "cell_type": "code",
   "execution_count": 83,
   "metadata": {},
   "outputs": [],
   "source": [
    "cheminDuFichierCSV = \"./../data/dataframe/dataframe.csv\" \n"
   ]
  },
  {
   "cell_type": "code",
   "execution_count": 84,
   "metadata": {},
   "outputs": [],
   "source": [
    "buchanan = pd.read_csv(cheminDuFichierCSV, delimiter=\",\", encoding=\"utf8\")\n"
   ]
  },
  {
   "cell_type": "code",
   "execution_count": 85,
   "metadata": {},
   "outputs": [
    {
     "data": {
      "text/html": [
       "<div>\n",
       "<style scoped>\n",
       "    .dataframe tbody tr th:only-of-type {\n",
       "        vertical-align: middle;\n",
       "    }\n",
       "\n",
       "    .dataframe tbody tr th {\n",
       "        vertical-align: top;\n",
       "    }\n",
       "\n",
       "    .dataframe thead th {\n",
       "        text-align: right;\n",
       "    }\n",
       "</style>\n",
       "<table border=\"1\" class=\"dataframe\">\n",
       "  <thead>\n",
       "    <tr style=\"text-align: right;\">\n",
       "      <th></th>\n",
       "      <th>Unnamed: 0</th>\n",
       "      <th>hwd</th>\n",
       "      <th>pronSampa</th>\n",
       "      <th>ipa</th>\n",
       "      <th>nbSyll</th>\n",
       "      <th>pron</th>\n",
       "      <th>origin</th>\n",
       "      <th>warning</th>\n",
       "      <th>remarques</th>\n",
       "      <th>POS</th>\n",
       "      <th>lineId</th>\n",
       "      <th>pageId</th>\n",
       "      <th>motVedette</th>\n",
       "    </tr>\n",
       "  </thead>\n",
       "  <tbody>\n",
       "    <tr>\n",
       "      <th>0</th>\n",
       "      <td>0</td>\n",
       "      <td>abacus</td>\n",
       "      <td>{ b @ k @ s</td>\n",
       "      <td>æbəkəs</td>\n",
       "      <td>3</td>\n",
       "      <td>aʹbăcus</td>\n",
       "      <td>NaN</td>\n",
       "      <td>NaN</td>\n",
       "      <td>NaN</td>\n",
       "      <td>n.</td>\n",
       "      <td>2.0</td>\n",
       "      <td>19</td>\n",
       "      <td>abacus</td>\n",
       "    </tr>\n",
       "    <tr>\n",
       "      <th>1</th>\n",
       "      <td>1</td>\n",
       "      <td>abandon</td>\n",
       "      <td>@ b { n d @ n</td>\n",
       "      <td>əbændən</td>\n",
       "      <td>3</td>\n",
       "      <td>ābăʹndon</td>\n",
       "      <td>F.</td>\n",
       "      <td>NaN</td>\n",
       "      <td>NaN</td>\n",
       "      <td>v.</td>\n",
       "      <td>5.0</td>\n",
       "      <td>19</td>\n",
       "      <td>abandon</td>\n",
       "    </tr>\n",
       "    <tr>\n",
       "      <th>2</th>\n",
       "      <td>2</td>\n",
       "      <td>abandoned</td>\n",
       "      <td>@ b { n d @ n d</td>\n",
       "      <td>əbændənd</td>\n",
       "      <td>4</td>\n",
       "      <td>ābăʹndŏned</td>\n",
       "      <td>NaN</td>\n",
       "      <td>NaN</td>\n",
       "      <td>NaN</td>\n",
       "      <td>a.</td>\n",
       "      <td>6.0</td>\n",
       "      <td>19</td>\n",
       "      <td>abandoned</td>\n",
       "    </tr>\n",
       "    <tr>\n",
       "      <th>3</th>\n",
       "      <td>3</td>\n",
       "      <td>abash</td>\n",
       "      <td>@ b { S</td>\n",
       "      <td>əbæʃ</td>\n",
       "      <td>2</td>\n",
       "      <td>ăbăʹſh</td>\n",
       "      <td>F.</td>\n",
       "      <td>NaN</td>\n",
       "      <td>NaN</td>\n",
       "      <td>v.</td>\n",
       "      <td>9.0</td>\n",
       "      <td>19</td>\n",
       "      <td>abash</td>\n",
       "    </tr>\n",
       "    <tr>\n",
       "      <th>4</th>\n",
       "      <td>4</td>\n",
       "      <td>abate</td>\n",
       "      <td>@ b eI t</td>\n",
       "      <td>əb?t</td>\n",
       "      <td>2</td>\n",
       "      <td>ăbāʹte</td>\n",
       "      <td>F.</td>\n",
       "      <td>NaN</td>\n",
       "      <td>NaN</td>\n",
       "      <td>v.</td>\n",
       "      <td>10.0</td>\n",
       "      <td>19</td>\n",
       "      <td>abate</td>\n",
       "    </tr>\n",
       "    <tr>\n",
       "      <th>...</th>\n",
       "      <td>...</td>\n",
       "      <td>...</td>\n",
       "      <td>...</td>\n",
       "      <td>...</td>\n",
       "      <td>...</td>\n",
       "      <td>...</td>\n",
       "      <td>...</td>\n",
       "      <td>...</td>\n",
       "      <td>...</td>\n",
       "      <td>...</td>\n",
       "      <td>...</td>\n",
       "      <td>...</td>\n",
       "      <td>...</td>\n",
       "    </tr>\n",
       "    <tr>\n",
       "      <th>10328</th>\n",
       "      <td>10328</td>\n",
       "      <td>zenith</td>\n",
       "      <td>z i: n @ T</td>\n",
       "      <td>ziːnəθ</td>\n",
       "      <td>2</td>\n",
       "      <td>zĕʹnith</td>\n",
       "      <td>NaN</td>\n",
       "      <td>NaN</td>\n",
       "      <td>NaN</td>\n",
       "      <td>n.</td>\n",
       "      <td>11.0</td>\n",
       "      <td>241</td>\n",
       "      <td>zenith</td>\n",
       "    </tr>\n",
       "    <tr>\n",
       "      <th>10329</th>\n",
       "      <td>10329</td>\n",
       "      <td>zest</td>\n",
       "      <td>z E s t</td>\n",
       "      <td>zɛst</td>\n",
       "      <td>1</td>\n",
       "      <td>zĕſt</td>\n",
       "      <td>NaN</td>\n",
       "      <td>NaN</td>\n",
       "      <td>NaN</td>\n",
       "      <td>n.</td>\n",
       "      <td>13.0</td>\n",
       "      <td>241</td>\n",
       "      <td>zest</td>\n",
       "    </tr>\n",
       "    <tr>\n",
       "      <th>10330</th>\n",
       "      <td>10330</td>\n",
       "      <td>zink</td>\n",
       "      <td>z I N k</td>\n",
       "      <td>zɪŋk</td>\n",
       "      <td>1</td>\n",
       "      <td>zĭnk</td>\n",
       "      <td>NaN</td>\n",
       "      <td>NaN</td>\n",
       "      <td>NaN</td>\n",
       "      <td>n.</td>\n",
       "      <td>14.0</td>\n",
       "      <td>241</td>\n",
       "      <td>zink</td>\n",
       "    </tr>\n",
       "    <tr>\n",
       "      <th>10331</th>\n",
       "      <td>10331</td>\n",
       "      <td>zodiac</td>\n",
       "      <td>z @U 4 i: { k</td>\n",
       "      <td>zoʊɾiːæk</td>\n",
       "      <td>3</td>\n",
       "      <td>zōʹdĭac</td>\n",
       "      <td>NaN</td>\n",
       "      <td>NaN</td>\n",
       "      <td>NaN</td>\n",
       "      <td>n.</td>\n",
       "      <td>16.0</td>\n",
       "      <td>241</td>\n",
       "      <td>zodiac</td>\n",
       "    </tr>\n",
       "    <tr>\n",
       "      <th>10332</th>\n",
       "      <td>10332</td>\n",
       "      <td>zone</td>\n",
       "      <td>z @U n</td>\n",
       "      <td>zoʊn</td>\n",
       "      <td>1</td>\n",
       "      <td>zōne</td>\n",
       "      <td>NaN</td>\n",
       "      <td>NaN</td>\n",
       "      <td>NaN</td>\n",
       "      <td>n.</td>\n",
       "      <td>18.0</td>\n",
       "      <td>241</td>\n",
       "      <td>zone</td>\n",
       "    </tr>\n",
       "  </tbody>\n",
       "</table>\n",
       "<p>10333 rows × 13 columns</p>\n",
       "</div>"
      ],
      "text/plain": [
       "       Unnamed: 0        hwd        pronSampa       ipa  nbSyll        pron  \\\n",
       "0               0     abacus      { b @ k @ s    æbəkəs       3     aʹbăcus   \n",
       "1               1    abandon    @ b { n d @ n   əbændən       3    ābăʹndon   \n",
       "2               2  abandoned  @ b { n d @ n d  əbændənd       4  ābăʹndŏned   \n",
       "3               3      abash          @ b { S      əbæʃ       2      ăbăʹſh   \n",
       "4               4      abate         @ b eI t      əb?t       2      ăbāʹte   \n",
       "...           ...        ...              ...       ...     ...         ...   \n",
       "10328       10328     zenith       z i: n @ T    ziːnəθ       2     zĕʹnith   \n",
       "10329       10329       zest          z E s t      zɛst       1        zĕſt   \n",
       "10330       10330       zink          z I N k      zɪŋk       1        zĭnk   \n",
       "10331       10331     zodiac    z @U 4 i: { k  zoʊɾiːæk       3     zōʹdĭac   \n",
       "10332       10332       zone           z @U n      zoʊn       1        zōne   \n",
       "\n",
       "      origin warning remarques POS  lineId  pageId motVedette  \n",
       "0        NaN     NaN       NaN  n.     2.0      19     abacus  \n",
       "1         F.     NaN       NaN  v.     5.0      19    abandon  \n",
       "2        NaN     NaN       NaN  a.     6.0      19  abandoned  \n",
       "3         F.     NaN       NaN  v.     9.0      19      abash  \n",
       "4         F.     NaN       NaN  v.    10.0      19      abate  \n",
       "...      ...     ...       ...  ..     ...     ...        ...  \n",
       "10328    NaN     NaN       NaN  n.    11.0     241     zenith  \n",
       "10329    NaN     NaN       NaN  n.    13.0     241       zest  \n",
       "10330    NaN     NaN       NaN  n.    14.0     241       zink  \n",
       "10331    NaN     NaN       NaN  n.    16.0     241     zodiac  \n",
       "10332    NaN     NaN       NaN  n.    18.0     241       zone  \n",
       "\n",
       "[10333 rows x 13 columns]"
      ]
     },
     "execution_count": 85,
     "metadata": {},
     "output_type": "execute_result"
    }
   ],
   "source": [
    "buchanan"
   ]
  },
  {
   "cell_type": "code",
   "execution_count": 86,
   "metadata": {},
   "outputs": [],
   "source": [
    "session = HTMLSession()\n",
    "#response = session.get(\"https://www.ldoceonline.com/dictionary/cochlea\")"
   ]
  },
  {
   "cell_type": "code",
   "execution_count": 87,
   "metadata": {},
   "outputs": [],
   "source": [
    "def getAudioInfo(mot):\n",
    "    response = session.get(\"https://dictionary.cambridge.org/fr/dictionnaire/anglais/\"+mot)\n",
    "    html_doc = response.content\n",
    "    soup = BeautifulSoup(html_doc, 'html.parser')\n",
    "    words = soup.findAll(\"div\", {\"class\": \"pos-header dpos-h\"})\n",
    "    \n",
    "    words_list = []\n",
    "    \n",
    "    for word in words:\n",
    "        \n",
    "        row = []\n",
    "\n",
    "        #Rédupération de toutes les informations\n",
    "        audioAll = word.findAll(type=\"audio/mpeg\")\n",
    "        posAll = word.findAll('span', {'class': 'pos dpos'})\n",
    "        ipaAll = word.findAll('span', {'class': 'ipa dipa lpr-2 lpl-1'})\n",
    "        \n",
    "        #Récupération de pos et ipa\n",
    "        row.append(posAll[0].text)\n",
    "        row.append(ipaAll[0].text)\n",
    "        \n",
    "        #Récupération du chemin mp3 selon la version uk/us\n",
    "        for a in audioAll:\n",
    "            if \"uk_pron\" in a.get_attribute_list('src')[0]:\n",
    "                row.append(\"https://dictionary.cambridge.org/\"+a.get_attribute_list('src')[0])\n",
    "            elif len(audioAll)==1:\n",
    "                row.append(\"\")\n",
    "            \n",
    "            if \"us_pron\" in a.get_attribute_list('src')[0]:\n",
    "                row.append(\"https://dictionary.cambridge.org/\"+a.get_attribute_list('src')[0])\n",
    "            elif len(audioAll)==1:\n",
    "                row.append(\"\")\n",
    "                \n",
    "                \n",
    "        words_list.append(row)\n",
    "    \n",
    "    df = pd.DataFrame.from_records(words_list, columns=[\"pos\", \"ipa\", \"audio_uk\", \"audio_us\"])\n",
    "    \n",
    "    return df"
   ]
  },
  {
   "cell_type": "code",
   "execution_count": 88,
   "metadata": {},
   "outputs": [],
   "source": [
    "#Definition du widget permettant de taper un texte \n",
    "textTarget = widgets.Text(\n",
    "       value=\"\",\n",
    "       description='Entrer un mot',\n",
    "       layout={'width': '200px'} )\n",
    "\n",
    "#Definition du widget permettant de taper un texte pour l'ipa\n",
    "ipaTarget = widgets.Text(\n",
    "       value=\"\",\n",
    "       description='IPA',\n",
    "       layout={'width': '200px'} )\n",
    "\n",
    "#Sélection d'une plage de valeurs\n",
    "rangeSyllMin = 1\n",
    "rangeSyllMax = 27\n",
    "optionsNbSyll = range(1, 27)\n",
    "wid_nbsyll = widgets.SelectionRangeSlider(\n",
    "    options=optionsNbSyll,\n",
    "    index=(min(optionsNbSyll)-1,max(optionsNbSyll)-1),\n",
    "    description='Nb de syl',\n",
    "    disabled=False\n",
    ")\n",
    "\n",
    "nbResultMax = 20\n",
    "wid_nbResult = widgets.IntSlider(\n",
    "    value=nbResultMax,\n",
    "    min=1,\n",
    "    max=nbResultMax,\n",
    "    step=1,\n",
    "    description='Nb résultats max',\n",
    "    disabled=False,\n",
    "    continuous_update=False,\n",
    "    orientation='horizontal',\n",
    "    readout=True,\n",
    "    readout_format='d'\n",
    ")"
   ]
  },
  {
   "cell_type": "code",
   "execution_count": 89,
   "metadata": {},
   "outputs": [],
   "source": [
    "#Définition du widget button\n",
    "button = widgets.Button(description='Démarrer')\n",
    "\n",
    "#Définition du widget affichage d'une sortie\n",
    "cambridge = widgets.Output()\n",
    "longman = widgets.Output()\n",
    "linguee = widgets.Output()\n",
    "tableau = widgets.Output()\n",
    "    \n",
    "def removeRegex(inputString):\n",
    "    outputstring = \"\"\n",
    "    for c in inputString:\n",
    "        if c.isalpha():\n",
    "            outputstring += c\n",
    "    return outputstring\n",
    "\n",
    "#Spécifier les actions à réaliser lors de l'appui sur le bouton\n",
    "def on_button_clicked(_):\n",
    "    \n",
    "    path = \"./../data/audio/\"\n",
    "\n",
    "    #Récupérer le texte saisi par l'utilisateur\n",
    "    if len(textTarget.value) != 0:\n",
    "        colToUse = 'hwd'\n",
    "        targetWord = removeRegex(textTarget.value)\n",
    "        \n",
    "    else:\n",
    "        colToUse = 'ipa'\n",
    "    \n",
    "    with cambridge:\n",
    "        clear_output()\n",
    "        urlCambridge = \"https://dictionary.cambridge.org/fr/dictionnaire/anglais/\"\n",
    "        urlTarget = urlCambridge+targetWord\n",
    "        display(HTML('<a href=\"'+urlTarget+'\" target=\"_blank\" >'+'Cambridge : '+targetWord+'</a>'))\n",
    "\n",
    "    with longman:\n",
    "        clear_output()        \n",
    "        urlLongman = \"https://www.ldoceonline.com/dictionary/\"\n",
    "        urlTarget = urlLongman+targetWord\n",
    "        display(HTML('<a href=\"'+urlTarget+'\" target=\"_blank\" >'+'longman : '+targetWord+'</a>'))\n",
    "\n",
    "        \n",
    "    #Filtrage tableau\n",
    "    buchananFiltered = buchanan[buchanan[colToUse].str.contains(textTarget.value, na=False, regex=True)]\n",
    "    buchananFiltered = buchananFiltered[buchananFiltered['nbSyll'].between(wid_nbsyll.value[0], wid_nbsyll.value[1], inclusive=True)]\n",
    "\n",
    "    with tableau:\n",
    "        clear_output()\n",
    "        display(buchananFiltered[['motVedette', 'nbSyll', 'pron', 'pronSampa', 'ipa']].head(n=wid_nbResult.value))\n",
    "           \n",
    "    for wordInfo in buchananFiltered.head(n=wid_nbResult.value).itertuples():\n",
    "        getAudioInfo(wordInfo.motVedette).head()\n",
    "        \n",
    "        if getAudioInfo(wordInfo.motVedette).empty:\n",
    "            print(\"pas d'informations pour\", wordInfo.motVedette)\n",
    "        \n",
    "        else:\n",
    "            row = [wordInfo.motVedette,\n",
    "                   getAudioInfo(wordInfo.motVedette)[0:1].ipa.values[0],\n",
    "                   getAudioInfo(wordInfo.motVedette)[0:1].pos.values[0],\n",
    "                   \"\",\n",
    "                   \"\"]\n",
    "            \n",
    "            items = [widgets.Label(row[0].upper()+\":\"), widgets.Label(row[2]), widgets.Label(\" - \"+row[1])]\n",
    "            display(widgets.HBox(items))\n",
    "            \n",
    "            #AUDIO - get_url\n",
    "            if len(getAudioInfo(wordInfo.motVedette)[0:1].audio_uk)>0:\n",
    "                row[3] = getAudioInfo(wordInfo.motVedette)[0:1].audio_uk.values[0]\n",
    "                audio_uk = True\n",
    "                #DOWNLOAD MP3\n",
    "                session_uk = HTMLSession()\n",
    "                audio = session_uk.get(row[3])\n",
    "                with open(path+wordInfo.motVedette+'_uk.mp3', 'wb') as f:\n",
    "                    f.write(audio.content)\n",
    "            if len(getAudioInfo(wordInfo.motVedette)[0:1].audio_us)>0:\n",
    "                row[4] = getAudioInfo(wordInfo.motVedette)[0:1].audio_us.values[0]\n",
    "                audio_us = True\n",
    "                #DOWNLOAD MP3\n",
    "                session_us = HTMLSession()\n",
    "                audio = session_us.get(row[4])\n",
    "                with open(path+wordInfo.motVedette+'_us.mp3', 'wb') as f:\n",
    "                    f.write(audio.content)\n",
    "            \n",
    "            #AUDIO - player\n",
    "            if audio_uk and audio_us:\n",
    "                audio_widgets = []\n",
    "                for i in range(2):\n",
    "                    if i == 0:\n",
    "                        #widget audio\n",
    "                        outAudio = widgets.Output()\n",
    "                        with outAudio:\n",
    "                            display(Audio(url=row[3]))\n",
    "                        \n",
    "                        outSpec = widgets.Output()\n",
    "    \n",
    "                            \n",
    "                        audio_widgets.append(widgets.VBox([widgets.Label(\"UK\"), outAudio]))\n",
    "                        \n",
    "                    if i == 1:\n",
    "                        #widget audio\n",
    "                        outAudio = widgets.Output()\n",
    "                        with outAudio:\n",
    "                            display(Audio(url=row[4]))\n",
    "                        \n",
    "                        outSpec = widgets.Output()\n",
    "\n",
    "                            \n",
    "                        audio_widgets.append(widgets.VBox([widgets.Label(\"US\"), outAudio]))\n",
    "                    \n",
    "                display(widgets.HBox(audio_widgets))\n",
    "                \n",
    "            elif audio_uk:\n",
    "                #widget audio\n",
    "                outAudio = widgets.Output()\n",
    "                with outAudio:\n",
    "                    display(Audio(url=row[3]))\n",
    "                                        \n",
    "                        \n",
    "                outSpec = widgets.Output()\n",
    "\n",
    "                display(widgets.VBox([widgets.Label(\"UK\"), outAudio]))   \n",
    "                \n",
    "                \n",
    "            else:\n",
    "                #widget audio\n",
    "                out = widgets.Output()\n",
    "                with out:\n",
    "                    display(Audio(url=row[4]))\n",
    "                   \n",
    "                        \n",
    "                outSpec = widgets.Output()\n",
    "                    \n",
    "                display(widgets.VBox([widgets.Label(\"US\"), outAudio])) \n",
    "                \n",
    "\n",
    "\n",
    "\n",
    "button.on_click(on_button_clicked)\n"
   ]
  },
  {
   "cell_type": "code",
   "execution_count": 90,
   "metadata": {},
   "outputs": [],
   "source": [
    "#Définition du widget permettant de taper un texte \n",
    "textTarget = widgets.Text(\n",
    "       value=\"\",\n",
    "       description='Orthographe',\n",
    "       layout={'width': '300px'} )\n",
    "\n",
    "ipaTarget = widgets.Text(\n",
    "       value=\"\",\n",
    "       description='Prononciation',\n",
    "       layout={'width': '300px'} )\n",
    "\n",
    "#Sélection d'une plage de valeurs\n",
    "rangeSyllMin = 1\n",
    "rangeSyllMax = 27\n",
    "optionsNbSyll = range(1, 27)\n",
    "wid_nbsyll = widgets.SelectionRangeSlider(\n",
    "    options=optionsNbSyll,\n",
    "    index=(min(optionsNbSyll)-1,max(optionsNbSyll)-1),\n",
    "    description='Nb syllabes',\n",
    "    disabled=False\n",
    ")\n",
    "\n",
    "\n",
    "#Filtre pour limiter le data frame en sorti\n",
    "nbColonne = widgets.IntSlider(\n",
    "    max = 10, value = 1,\n",
    "    description='Limit Data', \n",
    "    disabled=False\n",
    ")\n"
   ]
  },
  {
   "cell_type": "code",
   "execution_count": 91,
   "metadata": {},
   "outputs": [
    {
     "data": {
      "application/vnd.jupyter.widget-view+json": {
       "model_id": "1426de2287744efe81badb9ef63f763e",
       "version_major": 2,
       "version_minor": 0
      },
      "text/plain": [
       "VBox(children=(HBox(children=(Text(value='', description='Orthographe', layout=Layout(width='300px')), Text(va…"
      ]
     },
     "metadata": {},
     "output_type": "display_data"
    },
    {
     "data": {
      "application/vnd.jupyter.widget-view+json": {
       "model_id": "7310823b39e742e7baf263808cdebf02",
       "version_major": 2,
       "version_minor": 0
      },
      "text/plain": [
       "HBox(children=(Label(value='AMPHITHEATRE:'), Label(value='noun'), Label(value=' - ˈæm.fɪˌθɪə.tər')))"
      ]
     },
     "metadata": {},
     "output_type": "display_data"
    },
    {
     "data": {
      "application/vnd.jupyter.widget-view+json": {
       "model_id": "c8f0e968865244a8a397c6154b76717e",
       "version_major": 2,
       "version_minor": 0
      },
      "text/plain": [
       "HBox(children=(VBox(children=(Label(value='UK'), Output())), VBox(children=(Label(value='US'), Output()))))"
      ]
     },
     "metadata": {},
     "output_type": "display_data"
    },
    {
     "data": {
      "application/vnd.jupyter.widget-view+json": {
       "model_id": "fda9cd4d60ca4d1aaed362cd0aeeb11e",
       "version_major": 2,
       "version_minor": 0
      },
      "text/plain": [
       "HBox(children=(Label(value='BEAT:'), Label(value='verb'), Label(value=' - biːt')))"
      ]
     },
     "metadata": {},
     "output_type": "display_data"
    },
    {
     "data": {
      "application/vnd.jupyter.widget-view+json": {
       "model_id": "5608e3b30b504ed28f2ad66006f96fed",
       "version_major": 2,
       "version_minor": 0
      },
      "text/plain": [
       "HBox(children=(VBox(children=(Label(value='UK'), Output())), VBox(children=(Label(value='US'), Output()))))"
      ]
     },
     "metadata": {},
     "output_type": "display_data"
    },
    {
     "data": {
      "application/vnd.jupyter.widget-view+json": {
       "model_id": "d89f50e6776b4642a350c57588a2f772",
       "version_major": 2,
       "version_minor": 0
      },
      "text/plain": [
       "HBox(children=(Label(value='BENEATH:'), Label(value='preposition'), Label(value=' - bɪˈniːθ')))"
      ]
     },
     "metadata": {},
     "output_type": "display_data"
    },
    {
     "data": {
      "application/vnd.jupyter.widget-view+json": {
       "model_id": "61618418178240ce96efe212cb8dc0fe",
       "version_major": 2,
       "version_minor": 0
      },
      "text/plain": [
       "HBox(children=(VBox(children=(Label(value='UK'), Output())), VBox(children=(Label(value='US'), Output()))))"
      ]
     },
     "metadata": {},
     "output_type": "display_data"
    },
    {
     "data": {
      "application/vnd.jupyter.widget-view+json": {
       "model_id": "cac3ec68f7f74041abf3ba903ca133ab",
       "version_major": 2,
       "version_minor": 0
      },
      "text/plain": [
       "HBox(children=(Label(value='BEQUEATH:'), Label(value='verb'), Label(value=' - bɪˈkwiːð')))"
      ]
     },
     "metadata": {},
     "output_type": "display_data"
    },
    {
     "data": {
      "application/vnd.jupyter.widget-view+json": {
       "model_id": "43050664fef14feaa89ae749c0d4a970",
       "version_major": 2,
       "version_minor": 0
      },
      "text/plain": [
       "HBox(children=(VBox(children=(Label(value='UK'), Output())), VBox(children=(Label(value='US'), Output()))))"
      ]
     },
     "metadata": {},
     "output_type": "display_data"
    },
    {
     "data": {
      "application/vnd.jupyter.widget-view+json": {
       "model_id": "d6cb4b5abf914c3ea65681eb0b51d7ac",
       "version_major": 2,
       "version_minor": 0
      },
      "text/plain": [
       "HBox(children=(Label(value='BREATH:'), Label(value='noun'), Label(value=' - breθ')))"
      ]
     },
     "metadata": {},
     "output_type": "display_data"
    },
    {
     "data": {
      "application/vnd.jupyter.widget-view+json": {
       "model_id": "a3410bdd76d74e30bdeb8b46689136b1",
       "version_major": 2,
       "version_minor": 0
      },
      "text/plain": [
       "HBox(children=(VBox(children=(Label(value='UK'), Output())), VBox(children=(Label(value='US'), Output()))))"
      ]
     },
     "metadata": {},
     "output_type": "display_data"
    },
    {
     "data": {
      "application/vnd.jupyter.widget-view+json": {
       "model_id": "7ccbc7eb7a2840778df4dbb52cc9c199",
       "version_major": 2,
       "version_minor": 0
      },
      "text/plain": [
       "HBox(children=(Label(value='BREATHE:'), Label(value='verb'), Label(value=' - briːð')))"
      ]
     },
     "metadata": {},
     "output_type": "display_data"
    },
    {
     "data": {
      "application/vnd.jupyter.widget-view+json": {
       "model_id": "e460862039aa4ae6938cb64403bea1b0",
       "version_major": 2,
       "version_minor": 0
      },
      "text/plain": [
       "HBox(children=(VBox(children=(Label(value='UK'), Output())), VBox(children=(Label(value='US'), Output()))))"
      ]
     },
     "metadata": {},
     "output_type": "display_data"
    },
    {
     "data": {
      "application/vnd.jupyter.widget-view+json": {
       "model_id": "a62998fbab7e4672a80e83a57baa8ef1",
       "version_major": 2,
       "version_minor": 0
      },
      "text/plain": [
       "HBox(children=(Label(value='BROWBEAT:'), Label(value='verb'), Label(value=' - ˈbraʊ.biːt')))"
      ]
     },
     "metadata": {},
     "output_type": "display_data"
    },
    {
     "data": {
      "application/vnd.jupyter.widget-view+json": {
       "model_id": "557d5cf90d9d468791af19ae85e5bb12",
       "version_major": 2,
       "version_minor": 0
      },
      "text/plain": [
       "HBox(children=(VBox(children=(Label(value='UK'), Output())), VBox(children=(Label(value='US'), Output()))))"
      ]
     },
     "metadata": {},
     "output_type": "display_data"
    },
    {
     "ename": "IndexError",
     "evalue": "list index out of range",
     "output_type": "error",
     "traceback": [
      "\u001b[1;31m---------------------------------------------------------------------------\u001b[0m",
      "\u001b[1;31mIndexError\u001b[0m                                Traceback (most recent call last)",
      "\u001b[1;32m<ipython-input-89-6ceceb764f16>\u001b[0m in \u001b[0;36mon_button_clicked\u001b[1;34m(_)\u001b[0m\n\u001b[0;32m     50\u001b[0m \u001b[1;33m\u001b[0m\u001b[0m\n\u001b[0;32m     51\u001b[0m     \u001b[1;32mfor\u001b[0m \u001b[0mwordInfo\u001b[0m \u001b[1;32min\u001b[0m \u001b[0mbuchananFiltered\u001b[0m\u001b[1;33m.\u001b[0m\u001b[0mhead\u001b[0m\u001b[1;33m(\u001b[0m\u001b[0mn\u001b[0m\u001b[1;33m=\u001b[0m\u001b[0mwid_nbResult\u001b[0m\u001b[1;33m.\u001b[0m\u001b[0mvalue\u001b[0m\u001b[1;33m)\u001b[0m\u001b[1;33m.\u001b[0m\u001b[0mitertuples\u001b[0m\u001b[1;33m(\u001b[0m\u001b[1;33m)\u001b[0m\u001b[1;33m:\u001b[0m\u001b[1;33m\u001b[0m\u001b[1;33m\u001b[0m\u001b[0m\n\u001b[1;32m---> 52\u001b[1;33m         \u001b[0mgetAudioInfo\u001b[0m\u001b[1;33m(\u001b[0m\u001b[0mwordInfo\u001b[0m\u001b[1;33m.\u001b[0m\u001b[0mmotVedette\u001b[0m\u001b[1;33m)\u001b[0m\u001b[1;33m.\u001b[0m\u001b[0mhead\u001b[0m\u001b[1;33m(\u001b[0m\u001b[1;33m)\u001b[0m\u001b[1;33m\u001b[0m\u001b[1;33m\u001b[0m\u001b[0m\n\u001b[0m\u001b[0;32m     53\u001b[0m \u001b[1;33m\u001b[0m\u001b[0m\n\u001b[0;32m     54\u001b[0m         \u001b[1;32mif\u001b[0m \u001b[0mgetAudioInfo\u001b[0m\u001b[1;33m(\u001b[0m\u001b[0mwordInfo\u001b[0m\u001b[1;33m.\u001b[0m\u001b[0mmotVedette\u001b[0m\u001b[1;33m)\u001b[0m\u001b[1;33m.\u001b[0m\u001b[0mempty\u001b[0m\u001b[1;33m:\u001b[0m\u001b[1;33m\u001b[0m\u001b[1;33m\u001b[0m\u001b[0m\n",
      "\u001b[1;32m<ipython-input-87-fd8a49ec7e44>\u001b[0m in \u001b[0;36mgetAudioInfo\u001b[1;34m(mot)\u001b[0m\n\u001b[0;32m     18\u001b[0m         \u001b[1;31m#Récupération de pos et ipa\u001b[0m\u001b[1;33m\u001b[0m\u001b[1;33m\u001b[0m\u001b[1;33m\u001b[0m\u001b[0m\n\u001b[0;32m     19\u001b[0m         \u001b[0mrow\u001b[0m\u001b[1;33m.\u001b[0m\u001b[0mappend\u001b[0m\u001b[1;33m(\u001b[0m\u001b[0mposAll\u001b[0m\u001b[1;33m[\u001b[0m\u001b[1;36m0\u001b[0m\u001b[1;33m]\u001b[0m\u001b[1;33m.\u001b[0m\u001b[0mtext\u001b[0m\u001b[1;33m)\u001b[0m\u001b[1;33m\u001b[0m\u001b[1;33m\u001b[0m\u001b[0m\n\u001b[1;32m---> 20\u001b[1;33m         \u001b[0mrow\u001b[0m\u001b[1;33m.\u001b[0m\u001b[0mappend\u001b[0m\u001b[1;33m(\u001b[0m\u001b[0mipaAll\u001b[0m\u001b[1;33m[\u001b[0m\u001b[1;36m0\u001b[0m\u001b[1;33m]\u001b[0m\u001b[1;33m.\u001b[0m\u001b[0mtext\u001b[0m\u001b[1;33m)\u001b[0m\u001b[1;33m\u001b[0m\u001b[1;33m\u001b[0m\u001b[0m\n\u001b[0m\u001b[0;32m     21\u001b[0m \u001b[1;33m\u001b[0m\u001b[0m\n\u001b[0;32m     22\u001b[0m         \u001b[1;31m#Récupération du chemin mp3 selon la version uk/us\u001b[0m\u001b[1;33m\u001b[0m\u001b[1;33m\u001b[0m\u001b[1;33m\u001b[0m\u001b[0m\n",
      "\u001b[1;31mIndexError\u001b[0m: list index out of range"
     ]
    }
   ],
   "source": [
    "#Définition du widget button permettant de lancer l'extraction\n",
    "button = widgets.Button(description='Démarrer')\n",
    "\n",
    "#Définition du widget permettant l'affichage d'une sortie\n",
    "out1 = widgets.Output()\n",
    "out2 = widgets.Output()\n",
    "button.on_click(on_button_clicked)\n",
    "\n",
    "#Widgets de filtre input\n",
    "vbFiltres = widgets.HBox([textTarget, ipaTarget])\n",
    "vbFiltres2 = widgets.HBox([wid_nbsyll, wid_nbResult, button])\n",
    "#Widgets d'output\n",
    "vbOuts = widgets.VBox([cambridge, longman, linguee, tableau])\n",
    "\n",
    "hbAllWidgets = widgets.VBox([vbFiltres,vbFiltres2, vbOuts])\n",
    "hbAllWidgets"
   ]
  },
  {
   "cell_type": "code",
   "execution_count": null,
   "metadata": {},
   "outputs": [],
   "source": []
  },
  {
   "cell_type": "code",
   "execution_count": null,
   "metadata": {},
   "outputs": [],
   "source": []
  }
 ],
 "metadata": {
  "kernelspec": {
   "display_name": "Python 3",
   "language": "python",
   "name": "python3"
  },
  "language_info": {
   "codemirror_mode": {
    "name": "ipython",
    "version": 3
   },
   "file_extension": ".py",
   "mimetype": "text/x-python",
   "name": "python",
   "nbconvert_exporter": "python",
   "pygments_lexer": "ipython3",
   "version": "3.8.5"
  }
 },
 "nbformat": 4,
 "nbformat_minor": 4
}
